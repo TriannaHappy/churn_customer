{
 "cells": [
  {
   "cell_type": "code",
   "execution_count": 1,
   "id": "daea539f",
   "metadata": {},
   "outputs": [],
   "source": [
    "# Load the Models\n",
    "\n",
    "import pickle\n",
    "import json\n",
    "import pandas as pd\n",
    "import numpy as np\n",
    "from tensorflow.keras.models import load_model"
   ]
  },
  {
   "cell_type": "code",
   "execution_count": 2,
   "id": "c85a54c5",
   "metadata": {},
   "outputs": [],
   "source": [
    "# Read the Files\n",
    "\n",
    "model_ann=load_model('m1/churn_model.tf', compile = False)\n",
    "\n",
    "with open('m1/imputer_num.pkl', 'rb') as file_1:\n",
    "    imputer_num=pickle.load(file_1)\n",
    "    \n",
    "with open('m1/imputer_cat.pkl', 'rb') as file_m1:\n",
    "    imputer_cat=pickle.load(file_m1)\n",
    "    \n",
    "with open('m1/windsoriser.pkl', 'rb') as file_4:\n",
    "    windsoriser=pickle.load(file_4)\n",
    "    \n",
    "with open('m1/preprocessor.pkl', 'rb') as file_9:\n",
    "    preprocessor=pickle.load(file_9)  \n",
    "\n",
    "with open('m1/num_cols.txt', 'r') as file_5:\n",
    "    num_cols=json.load(file_5)\n",
    "\n",
    "with open('m1/cat_cols.txt','r') as file_6: \n",
    "    cat_cols=json.load(file_6)\n"
   ]
  },
  {
   "cell_type": "code",
   "execution_count": 3,
   "id": "366e1a17",
   "metadata": {},
   "outputs": [
    {
     "data": {
      "text/html": [
       "<div>\n",
       "<style scoped>\n",
       "    .dataframe tbody tr th:only-of-type {\n",
       "        vertical-align: middle;\n",
       "    }\n",
       "\n",
       "    .dataframe tbody tr th {\n",
       "        vertical-align: top;\n",
       "    }\n",
       "\n",
       "    .dataframe thead th {\n",
       "        text-align: right;\n",
       "    }\n",
       "</style>\n",
       "<table border=\"1\" class=\"dataframe\">\n",
       "  <thead>\n",
       "    <tr style=\"text-align: right;\">\n",
       "      <th></th>\n",
       "      <th>user_id</th>\n",
       "      <th>age</th>\n",
       "      <th>gender</th>\n",
       "      <th>region_category</th>\n",
       "      <th>membership_category</th>\n",
       "      <th>joining_date</th>\n",
       "      <th>joined_through_referral</th>\n",
       "      <th>preferred_offer_types</th>\n",
       "      <th>medium_of_operation</th>\n",
       "      <th>internet_option</th>\n",
       "      <th>...</th>\n",
       "      <th>days_since_last_login</th>\n",
       "      <th>avg_time_spent</th>\n",
       "      <th>avg_transaction_value</th>\n",
       "      <th>avg_frequency_login_days</th>\n",
       "      <th>points_in_wallet</th>\n",
       "      <th>used_special_discount</th>\n",
       "      <th>offer_application_preference</th>\n",
       "      <th>past_complaint</th>\n",
       "      <th>complaint_status</th>\n",
       "      <th>feedback</th>\n",
       "    </tr>\n",
       "  </thead>\n",
       "  <tbody>\n",
       "    <tr>\n",
       "      <th>0</th>\n",
       "      <td>8590af72adf4f3a9</td>\n",
       "      <td>52</td>\n",
       "      <td>F</td>\n",
       "      <td>City</td>\n",
       "      <td>No Membership</td>\n",
       "      <td>2016-05-16</td>\n",
       "      <td>Yes</td>\n",
       "      <td>Credit/Debit Card Offers</td>\n",
       "      <td>NaN</td>\n",
       "      <td>Mobile_Data</td>\n",
       "      <td>...</td>\n",
       "      <td>11</td>\n",
       "      <td>301.67</td>\n",
       "      <td>14545.56</td>\n",
       "      <td>16.0</td>\n",
       "      <td>0.0</td>\n",
       "      <td>No</td>\n",
       "      <td>Yes</td>\n",
       "      <td>Yes</td>\n",
       "      <td>Solved</td>\n",
       "      <td>Too many ads</td>\n",
       "    </tr>\n",
       "  </tbody>\n",
       "</table>\n",
       "<p>1 rows × 21 columns</p>\n",
       "</div>"
      ],
      "text/plain": [
       "            user_id  age gender region_category membership_category  \\\n",
       "0  8590af72adf4f3a9   52      F            City       No Membership   \n",
       "\n",
       "  joining_date joined_through_referral     preferred_offer_types  \\\n",
       "0   2016-05-16                     Yes  Credit/Debit Card Offers   \n",
       "\n",
       "   medium_of_operation internet_option  ... days_since_last_login  \\\n",
       "0                  NaN     Mobile_Data  ...                    11   \n",
       "\n",
       "   avg_time_spent  avg_transaction_value  avg_frequency_login_days  \\\n",
       "0          301.67               14545.56                      16.0   \n",
       "\n",
       "   points_in_wallet  used_special_discount offer_application_preference  \\\n",
       "0               0.0                     No                          Yes   \n",
       "\n",
       "  past_complaint complaint_status      feedback  \n",
       "0            Yes           Solved  Too many ads  \n",
       "\n",
       "[1 rows x 21 columns]"
      ]
     },
     "execution_count": 3,
     "metadata": {},
     "output_type": "execute_result"
    }
   ],
   "source": [
    "# Create New Data\n",
    "\n",
    "data_inf = {\n",
    "    'user_id' : '8590af72adf4f3a9',\n",
    "    'age' : 52,\n",
    "    'gender' : 'F',\n",
    "    'region_category' : 'City',\n",
    "    'membership_category' : 'No Membership',\n",
    "    'joining_date' : '2016-05-16',\n",
    "    'joined_through_referral' : 'Yes',\n",
    "    'preferred_offer_types' :'Credit/Debit Card Offers',\n",
    "    'medium_of_operation':np.nan,\n",
    "    'internet_option':'Mobile_Data',\n",
    "    'last_visit_time':'11:11:03',\n",
    "    'days_since_last_login':11,\n",
    "    'avg_time_spent':301.67,\n",
    "    'avg_transaction_value':14545.56,\n",
    "    'avg_frequency_login_days':16.0,\n",
    "    'points_in_wallet':0.0,\n",
    "    'used_special_discount':'No',\n",
    "    'offer_application_preference':'Yes',\n",
    "    'past_complaint':'Yes',\n",
    "    'complaint_status':'Solved',\n",
    "    'feedback':'Too many ads'\n",
    "}\n",
    "\n",
    "data_inf = pd.DataFrame([data_inf])\n",
    "data_inf"
   ]
  },
  {
   "cell_type": "code",
   "execution_count": 15,
   "id": "4a9cbaae",
   "metadata": {},
   "outputs": [
    {
     "data": {
      "text/plain": [
       "['age',\n",
       " 'days_since_last_login',\n",
       " 'avg_time_spent',\n",
       " 'avg_transaction_value',\n",
       " 'avg_frequency_login_days',\n",
       " 'points_in_wallet']"
      ]
     },
     "execution_count": 15,
     "metadata": {},
     "output_type": "execute_result"
    }
   ],
   "source": [
    "num_cols"
   ]
  },
  {
   "cell_type": "code",
   "execution_count": 4,
   "id": "dc3ec8d7",
   "metadata": {},
   "outputs": [],
   "source": [
    "# Split X data based on data type\n",
    "X_test_num = data_inf[num_cols]\n",
    "X_test_cat = data_inf[cat_cols]"
   ]
  },
  {
   "cell_type": "code",
   "execution_count": 5,
   "id": "3a4d6434",
   "metadata": {},
   "outputs": [],
   "source": [
    "# Handling Missing Value\n",
    "X_test_num=pd.DataFrame(imputer_num.transform(X_test_num), columns=num_cols)\n",
    "X_test_cat=pd.DataFrame(imputer_cat.transform(X_test_cat), columns=cat_cols)"
   ]
  },
  {
   "cell_type": "code",
   "execution_count": 6,
   "id": "5e389bad",
   "metadata": {},
   "outputs": [],
   "source": [
    "# Handling Outlier\n",
    "X_test_num_capped = windsoriser.transform(X_test_num)"
   ]
  },
  {
   "cell_type": "code",
   "execution_count": 7,
   "id": "74951ddf",
   "metadata": {},
   "outputs": [],
   "source": [
    "# Feature Selection\n",
    "X_test_num_capped.drop(['age'], axis=1, inplace=True)\n",
    "X_test_cat.drop(['past_complaint', 'complaint_status', 'last_visit_time', 'user_id'], axis=1, inplace=True)"
   ]
  },
  {
   "cell_type": "code",
   "execution_count": 8,
   "id": "54cc8d72",
   "metadata": {},
   "outputs": [],
   "source": [
    "# Concat all X data\n",
    "X_test_concat=pd.concat([X_test_num_capped.reset_index(drop=True),X_test_cat.reset_index(drop=True)], axis=1)"
   ]
  },
  {
   "cell_type": "code",
   "execution_count": 9,
   "id": "0f5f5994",
   "metadata": {},
   "outputs": [],
   "source": [
    "# Transform X data using column transformer pipeline (scaling and encoding)\n",
    "X_test_final=preprocessor.transform(X_test_concat)"
   ]
  },
  {
   "cell_type": "code",
   "execution_count": 14,
   "id": "3d8fd8c8",
   "metadata": {},
   "outputs": [
    {
     "name": "stdout",
     "output_type": "stream",
     "text": [
      "1/1 [==============================] - 0s 83ms/step\n",
      "The customer will be churning\n"
     ]
    }
   ],
   "source": [
    "# Model Evaluation of test-set\n",
    "\n",
    "y_pred_seq2 = model_ann.predict(X_test_final)\n",
    "y_pred_seq2 = np.where(y_pred_seq2 >= 0.5, 1, 0)\n",
    "if y_pred_seq2==1:\n",
    "    print (\"The customer will be churning\")\n",
    "else:\n",
    "    print (\"The customer will not be churning\")"
   ]
  },
  {
   "cell_type": "markdown",
   "id": "10233c46",
   "metadata": {},
   "source": [
    "Diprediksikan bahwa customer baru kita akan melakukan churn, menurut model ANN yang kita pakai."
   ]
  }
 ],
 "metadata": {
  "kernelspec": {
   "display_name": "Python 3 (ipykernel)",
   "language": "python",
   "name": "python3"
  },
  "language_info": {
   "codemirror_mode": {
    "name": "ipython",
    "version": 3
   },
   "file_extension": ".py",
   "mimetype": "text/x-python",
   "name": "python",
   "nbconvert_exporter": "python",
   "pygments_lexer": "ipython3",
   "version": "3.9.13"
  }
 },
 "nbformat": 4,
 "nbformat_minor": 5
}
